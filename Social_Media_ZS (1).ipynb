{
  "nbformat": 4,
  "nbformat_minor": 0,
  "metadata": {
    "colab": {
      "name": "Social-Media-ZS.ipynb",
      "provenance": [],
      "collapsed_sections": []
    },
    "kernelspec": {
      "name": "python3",
      "display_name": "Python 3"
    }
  },
  "cells": [
    {
      "cell_type": "code",
      "metadata": {
        "id": "LSASEmjxFqJw",
        "colab_type": "code",
        "outputId": "f15d57d6-88d1-470b-f07c-e614a55b5aa3",
        "colab": {
          "base_uri": "https://localhost:8080/",
          "height": 119
        }
      },
      "source": [
        "import pandas as pd \n",
        "import numpy as np\n",
        "import datetime\n",
        "import re\n",
        "from nltk.tokenize import word_tokenize\n",
        "from nltk.corpus import stopwords\n",
        "from nltk.stem import WordNetLemmatizer \n",
        "from nltk.stem import PorterStemmer\n",
        "from sklearn_pandas import DataFrameMapper\n",
        "from sklearn.feature_extraction.text import TfidfVectorizer\n",
        "from sklearn.svm import LinearSVR\n",
        "from sklearn.metrics import mean_absolute_error\n",
        "import nltk\n",
        "nltk.download('wordnet')\n",
        "nltk.download('punkt')\n",
        "nltk.download('stopwords')\n",
        "stop_words=set(stopwords.words('english'))\n",
        "lemmatizer = WordNetLemmatizer() \n",
        "st = PorterStemmer()"
      ],
      "execution_count": 1,
      "outputs": [
        {
          "output_type": "stream",
          "text": [
            "[nltk_data] Downloading package wordnet to /root/nltk_data...\n",
            "[nltk_data]   Package wordnet is already up-to-date!\n",
            "[nltk_data] Downloading package punkt to /root/nltk_data...\n",
            "[nltk_data]   Package punkt is already up-to-date!\n",
            "[nltk_data] Downloading package stopwords to /root/nltk_data...\n",
            "[nltk_data]   Package stopwords is already up-to-date!\n"
          ],
          "name": "stdout"
        }
      ]
    },
    {
      "cell_type": "code",
      "metadata": {
        "id": "XC2uJzKsHQ08",
        "colab_type": "code",
        "outputId": "732dfd92-708d-4a0f-c240-f7452d778066",
        "colab": {
          "base_uri": "https://localhost:8080/",
          "height": 666
        }
      },
      "source": [
        "df=pd.read_csv(\"train_file.csv\")\n",
        "df_test=pd.read_csv(\"test_file.csv\")\n",
        "# df_test.head(5)\n",
        "df.head(5)\n"
      ],
      "execution_count": 31,
      "outputs": [
        {
          "output_type": "execute_result",
          "data": {
            "text/html": [
              "<div>\n",
              "<style scoped>\n",
              "    .dataframe tbody tr th:only-of-type {\n",
              "        vertical-align: middle;\n",
              "    }\n",
              "\n",
              "    .dataframe tbody tr th {\n",
              "        vertical-align: top;\n",
              "    }\n",
              "\n",
              "    .dataframe thead th {\n",
              "        text-align: right;\n",
              "    }\n",
              "</style>\n",
              "<table border=\"1\" class=\"dataframe\">\n",
              "  <thead>\n",
              "    <tr style=\"text-align: right;\">\n",
              "      <th></th>\n",
              "      <th>IDLink</th>\n",
              "      <th>Title</th>\n",
              "      <th>Headline</th>\n",
              "      <th>Source</th>\n",
              "      <th>Topic</th>\n",
              "      <th>PublishDate</th>\n",
              "      <th>Facebook</th>\n",
              "      <th>GooglePlus</th>\n",
              "      <th>LinkedIn</th>\n",
              "      <th>SentimentTitle</th>\n",
              "      <th>SentimentHeadline</th>\n",
              "    </tr>\n",
              "  </thead>\n",
              "  <tbody>\n",
              "    <tr>\n",
              "      <th>0</th>\n",
              "      <td>Tr3CMgRv1N</td>\n",
              "      <td>Obama Lays Wreath at Arlington National Cemetery</td>\n",
              "      <td>Obama Lays Wreath at Arlington National Cemete...</td>\n",
              "      <td>USA TODAY</td>\n",
              "      <td>obama</td>\n",
              "      <td>2002-04-02 00:00:00</td>\n",
              "      <td>-1</td>\n",
              "      <td>-1</td>\n",
              "      <td>-1</td>\n",
              "      <td>0.000000</td>\n",
              "      <td>-0.053300</td>\n",
              "    </tr>\n",
              "    <tr>\n",
              "      <th>1</th>\n",
              "      <td>Wc81vGp8qZ</td>\n",
              "      <td>A Look at the Health of the Chinese Economy</td>\n",
              "      <td>Tim Haywood, investment director business-unit...</td>\n",
              "      <td>Bloomberg</td>\n",
              "      <td>economy</td>\n",
              "      <td>2008-09-20 00:00:00</td>\n",
              "      <td>-1</td>\n",
              "      <td>-1</td>\n",
              "      <td>-1</td>\n",
              "      <td>0.208333</td>\n",
              "      <td>-0.156386</td>\n",
              "    </tr>\n",
              "    <tr>\n",
              "      <th>2</th>\n",
              "      <td>zNGH03CrZH</td>\n",
              "      <td>Nouriel Roubini: Global Economy Not Back to 2008</td>\n",
              "      <td>Nouriel Roubini, NYU professor and chairman at...</td>\n",
              "      <td>Bloomberg</td>\n",
              "      <td>economy</td>\n",
              "      <td>2012-01-28 00:00:00</td>\n",
              "      <td>-1</td>\n",
              "      <td>-1</td>\n",
              "      <td>-1</td>\n",
              "      <td>-0.425210</td>\n",
              "      <td>0.139754</td>\n",
              "    </tr>\n",
              "    <tr>\n",
              "      <th>3</th>\n",
              "      <td>3sM1H0W8ts</td>\n",
              "      <td>Finland GDP Expands In Q4</td>\n",
              "      <td>Finland's economy expanded marginally in the t...</td>\n",
              "      <td>RTT News</td>\n",
              "      <td>economy</td>\n",
              "      <td>2015-03-01 00:06:00</td>\n",
              "      <td>-1</td>\n",
              "      <td>-1</td>\n",
              "      <td>-1</td>\n",
              "      <td>0.000000</td>\n",
              "      <td>0.026064</td>\n",
              "    </tr>\n",
              "    <tr>\n",
              "      <th>4</th>\n",
              "      <td>wUbnxgvqaZ</td>\n",
              "      <td>Tourism, govt spending buoys Thai economy in J...</td>\n",
              "      <td>Tourism and public spending continued to boost...</td>\n",
              "      <td>The Nation - Thailand&amp;#39;s English news</td>\n",
              "      <td>economy</td>\n",
              "      <td>2015-03-01 00:11:00</td>\n",
              "      <td>-1</td>\n",
              "      <td>-1</td>\n",
              "      <td>-1</td>\n",
              "      <td>0.000000</td>\n",
              "      <td>0.141084</td>\n",
              "    </tr>\n",
              "  </tbody>\n",
              "</table>\n",
              "</div>"
            ],
            "text/plain": [
              "       IDLink  ... SentimentHeadline\n",
              "0  Tr3CMgRv1N  ...         -0.053300\n",
              "1  Wc81vGp8qZ  ...         -0.156386\n",
              "2  zNGH03CrZH  ...          0.139754\n",
              "3  3sM1H0W8ts  ...          0.026064\n",
              "4  wUbnxgvqaZ  ...          0.141084\n",
              "\n",
              "[5 rows x 11 columns]"
            ]
          },
          "metadata": {
            "tags": []
          },
          "execution_count": 31
        }
      ]
    },
    {
      "cell_type": "code",
      "metadata": {
        "id": "QiGymAZQJXV8",
        "colab_type": "code",
        "outputId": "70c912fc-fda7-43c4-f9d6-eb011e01b893",
        "colab": {
          "base_uri": "https://localhost:8080/",
          "height": 289
        }
      },
      "source": [
        "df.info()"
      ],
      "execution_count": 3,
      "outputs": [
        {
          "output_type": "stream",
          "text": [
            "<class 'pandas.core.frame.DataFrame'>\n",
            "RangeIndex: 55932 entries, 0 to 55931\n",
            "Data columns (total 11 columns):\n",
            "IDLink               55932 non-null object\n",
            "Title                55932 non-null object\n",
            "Headline             55932 non-null object\n",
            "Source               55757 non-null object\n",
            "Topic                55932 non-null object\n",
            "PublishDate          55932 non-null object\n",
            "Facebook             55932 non-null int64\n",
            "GooglePlus           55932 non-null int64\n",
            "LinkedIn             55932 non-null int64\n",
            "SentimentTitle       55932 non-null float64\n",
            "SentimentHeadline    55932 non-null float64\n",
            "dtypes: float64(2), int64(3), object(6)\n",
            "memory usage: 4.7+ MB\n"
          ],
          "name": "stdout"
        }
      ]
    },
    {
      "cell_type": "code",
      "metadata": {
        "id": "0h0gRj6SJaip",
        "colab_type": "code",
        "outputId": "0c7f4ae6-62d7-4dc5-c420-9abcfac6647d",
        "colab": {
          "base_uri": "https://localhost:8080/",
          "height": 317
        }
      },
      "source": [
        "df.describe()"
      ],
      "execution_count": 4,
      "outputs": [
        {
          "output_type": "execute_result",
          "data": {
            "text/html": [
              "<div>\n",
              "<style scoped>\n",
              "    .dataframe tbody tr th:only-of-type {\n",
              "        vertical-align: middle;\n",
              "    }\n",
              "\n",
              "    .dataframe tbody tr th {\n",
              "        vertical-align: top;\n",
              "    }\n",
              "\n",
              "    .dataframe thead th {\n",
              "        text-align: right;\n",
              "    }\n",
              "</style>\n",
              "<table border=\"1\" class=\"dataframe\">\n",
              "  <thead>\n",
              "    <tr style=\"text-align: right;\">\n",
              "      <th></th>\n",
              "      <th>Facebook</th>\n",
              "      <th>GooglePlus</th>\n",
              "      <th>LinkedIn</th>\n",
              "      <th>SentimentTitle</th>\n",
              "      <th>SentimentHeadline</th>\n",
              "    </tr>\n",
              "  </thead>\n",
              "  <tbody>\n",
              "    <tr>\n",
              "      <th>count</th>\n",
              "      <td>55932.000000</td>\n",
              "      <td>55932.000000</td>\n",
              "      <td>55932.000000</td>\n",
              "      <td>55932.000000</td>\n",
              "      <td>55932.000000</td>\n",
              "    </tr>\n",
              "    <tr>\n",
              "      <th>mean</th>\n",
              "      <td>132.050329</td>\n",
              "      <td>4.551616</td>\n",
              "      <td>14.300132</td>\n",
              "      <td>-0.006318</td>\n",
              "      <td>-0.029577</td>\n",
              "    </tr>\n",
              "    <tr>\n",
              "      <th>std</th>\n",
              "      <td>722.931314</td>\n",
              "      <td>21.137177</td>\n",
              "      <td>76.651420</td>\n",
              "      <td>0.137569</td>\n",
              "      <td>0.143038</td>\n",
              "    </tr>\n",
              "    <tr>\n",
              "      <th>min</th>\n",
              "      <td>-1.000000</td>\n",
              "      <td>-1.000000</td>\n",
              "      <td>-1.000000</td>\n",
              "      <td>-0.838525</td>\n",
              "      <td>-0.755355</td>\n",
              "    </tr>\n",
              "    <tr>\n",
              "      <th>25%</th>\n",
              "      <td>0.000000</td>\n",
              "      <td>0.000000</td>\n",
              "      <td>0.000000</td>\n",
              "      <td>-0.079057</td>\n",
              "      <td>-0.116927</td>\n",
              "    </tr>\n",
              "    <tr>\n",
              "      <th>50%</th>\n",
              "      <td>6.000000</td>\n",
              "      <td>0.000000</td>\n",
              "      <td>0.000000</td>\n",
              "      <td>0.000000</td>\n",
              "      <td>-0.027277</td>\n",
              "    </tr>\n",
              "    <tr>\n",
              "      <th>75%</th>\n",
              "      <td>37.000000</td>\n",
              "      <td>2.000000</td>\n",
              "      <td>4.000000</td>\n",
              "      <td>0.063969</td>\n",
              "      <td>0.057354</td>\n",
              "    </tr>\n",
              "    <tr>\n",
              "      <th>max</th>\n",
              "      <td>49211.000000</td>\n",
              "      <td>1267.000000</td>\n",
              "      <td>3716.000000</td>\n",
              "      <td>0.962354</td>\n",
              "      <td>0.964646</td>\n",
              "    </tr>\n",
              "  </tbody>\n",
              "</table>\n",
              "</div>"
            ],
            "text/plain": [
              "           Facebook    GooglePlus  ...  SentimentTitle  SentimentHeadline\n",
              "count  55932.000000  55932.000000  ...    55932.000000       55932.000000\n",
              "mean     132.050329      4.551616  ...       -0.006318          -0.029577\n",
              "std      722.931314     21.137177  ...        0.137569           0.143038\n",
              "min       -1.000000     -1.000000  ...       -0.838525          -0.755355\n",
              "25%        0.000000      0.000000  ...       -0.079057          -0.116927\n",
              "50%        6.000000      0.000000  ...        0.000000          -0.027277\n",
              "75%       37.000000      2.000000  ...        0.063969           0.057354\n",
              "max    49211.000000   1267.000000  ...        0.962354           0.964646\n",
              "\n",
              "[8 rows x 5 columns]"
            ]
          },
          "metadata": {
            "tags": []
          },
          "execution_count": 4
        }
      ]
    },
    {
      "cell_type": "code",
      "metadata": {
        "id": "oK1zZ6WYHd0V",
        "colab_type": "code",
        "outputId": "b3aaec5d-0e73-4ce6-fb98-bc212596a9b2",
        "colab": {
          "base_uri": "https://localhost:8080/",
          "height": 204
        }
      },
      "source": [
        "#making a table to check for null values in the dataframe and trying to understand which column has the most null values present\n",
        "total = df.isnull().sum().sort_values(ascending=False)\n",
        "percent_1 = df.isnull().sum()/df.isnull().count()*100\n",
        "percent_2 = (round(percent_1, 1)).sort_values(ascending=False)\n",
        "missing_data = pd.concat([total, percent_2], axis=1, keys=['Total', '%'])\n",
        "missing_data.head(5)"
      ],
      "execution_count": 5,
      "outputs": [
        {
          "output_type": "execute_result",
          "data": {
            "text/html": [
              "<div>\n",
              "<style scoped>\n",
              "    .dataframe tbody tr th:only-of-type {\n",
              "        vertical-align: middle;\n",
              "    }\n",
              "\n",
              "    .dataframe tbody tr th {\n",
              "        vertical-align: top;\n",
              "    }\n",
              "\n",
              "    .dataframe thead th {\n",
              "        text-align: right;\n",
              "    }\n",
              "</style>\n",
              "<table border=\"1\" class=\"dataframe\">\n",
              "  <thead>\n",
              "    <tr style=\"text-align: right;\">\n",
              "      <th></th>\n",
              "      <th>Total</th>\n",
              "      <th>%</th>\n",
              "    </tr>\n",
              "  </thead>\n",
              "  <tbody>\n",
              "    <tr>\n",
              "      <th>Source</th>\n",
              "      <td>175</td>\n",
              "      <td>0.3</td>\n",
              "    </tr>\n",
              "    <tr>\n",
              "      <th>SentimentHeadline</th>\n",
              "      <td>0</td>\n",
              "      <td>0.0</td>\n",
              "    </tr>\n",
              "    <tr>\n",
              "      <th>SentimentTitle</th>\n",
              "      <td>0</td>\n",
              "      <td>0.0</td>\n",
              "    </tr>\n",
              "    <tr>\n",
              "      <th>LinkedIn</th>\n",
              "      <td>0</td>\n",
              "      <td>0.0</td>\n",
              "    </tr>\n",
              "    <tr>\n",
              "      <th>GooglePlus</th>\n",
              "      <td>0</td>\n",
              "      <td>0.0</td>\n",
              "    </tr>\n",
              "  </tbody>\n",
              "</table>\n",
              "</div>"
            ],
            "text/plain": [
              "                   Total    %\n",
              "Source               175  0.3\n",
              "SentimentHeadline      0  0.0\n",
              "SentimentTitle         0  0.0\n",
              "LinkedIn               0  0.0\n",
              "GooglePlus             0  0.0"
            ]
          },
          "metadata": {
            "tags": []
          },
          "execution_count": 5
        }
      ]
    },
    {
      "cell_type": "code",
      "metadata": {
        "id": "bk909tuUIEml",
        "colab_type": "code",
        "outputId": "bccc0aab-fb8a-4c08-f388-9bb7da53ebbe",
        "colab": {
          "base_uri": "https://localhost:8080/",
          "height": 1000
        }
      },
      "source": [
        "#Since source is the only column having null values, we shall try to replace it with the mode of the source dataframe \n",
        "df.dropna()"
      ],
      "execution_count": 6,
      "outputs": [
        {
          "output_type": "execute_result",
          "data": {
            "text/html": [
              "<div>\n",
              "<style scoped>\n",
              "    .dataframe tbody tr th:only-of-type {\n",
              "        vertical-align: middle;\n",
              "    }\n",
              "\n",
              "    .dataframe tbody tr th {\n",
              "        vertical-align: top;\n",
              "    }\n",
              "\n",
              "    .dataframe thead th {\n",
              "        text-align: right;\n",
              "    }\n",
              "</style>\n",
              "<table border=\"1\" class=\"dataframe\">\n",
              "  <thead>\n",
              "    <tr style=\"text-align: right;\">\n",
              "      <th></th>\n",
              "      <th>IDLink</th>\n",
              "      <th>Title</th>\n",
              "      <th>Headline</th>\n",
              "      <th>Source</th>\n",
              "      <th>Topic</th>\n",
              "      <th>PublishDate</th>\n",
              "      <th>Facebook</th>\n",
              "      <th>GooglePlus</th>\n",
              "      <th>LinkedIn</th>\n",
              "      <th>SentimentTitle</th>\n",
              "      <th>SentimentHeadline</th>\n",
              "    </tr>\n",
              "  </thead>\n",
              "  <tbody>\n",
              "    <tr>\n",
              "      <th>0</th>\n",
              "      <td>Tr3CMgRv1N</td>\n",
              "      <td>Obama Lays Wreath at Arlington National Cemetery</td>\n",
              "      <td>Obama Lays Wreath at Arlington National Cemete...</td>\n",
              "      <td>USA TODAY</td>\n",
              "      <td>obama</td>\n",
              "      <td>2002-04-02 00:00:00</td>\n",
              "      <td>-1</td>\n",
              "      <td>-1</td>\n",
              "      <td>-1</td>\n",
              "      <td>0.000000</td>\n",
              "      <td>-0.053300</td>\n",
              "    </tr>\n",
              "    <tr>\n",
              "      <th>1</th>\n",
              "      <td>Wc81vGp8qZ</td>\n",
              "      <td>A Look at the Health of the Chinese Economy</td>\n",
              "      <td>Tim Haywood, investment director business-unit...</td>\n",
              "      <td>Bloomberg</td>\n",
              "      <td>economy</td>\n",
              "      <td>2008-09-20 00:00:00</td>\n",
              "      <td>-1</td>\n",
              "      <td>-1</td>\n",
              "      <td>-1</td>\n",
              "      <td>0.208333</td>\n",
              "      <td>-0.156386</td>\n",
              "    </tr>\n",
              "    <tr>\n",
              "      <th>2</th>\n",
              "      <td>zNGH03CrZH</td>\n",
              "      <td>Nouriel Roubini: Global Economy Not Back to 2008</td>\n",
              "      <td>Nouriel Roubini, NYU professor and chairman at...</td>\n",
              "      <td>Bloomberg</td>\n",
              "      <td>economy</td>\n",
              "      <td>2012-01-28 00:00:00</td>\n",
              "      <td>-1</td>\n",
              "      <td>-1</td>\n",
              "      <td>-1</td>\n",
              "      <td>-0.425210</td>\n",
              "      <td>0.139754</td>\n",
              "    </tr>\n",
              "    <tr>\n",
              "      <th>3</th>\n",
              "      <td>3sM1H0W8ts</td>\n",
              "      <td>Finland GDP Expands In Q4</td>\n",
              "      <td>Finland's economy expanded marginally in the t...</td>\n",
              "      <td>RTT News</td>\n",
              "      <td>economy</td>\n",
              "      <td>2015-03-01 00:06:00</td>\n",
              "      <td>-1</td>\n",
              "      <td>-1</td>\n",
              "      <td>-1</td>\n",
              "      <td>0.000000</td>\n",
              "      <td>0.026064</td>\n",
              "    </tr>\n",
              "    <tr>\n",
              "      <th>4</th>\n",
              "      <td>wUbnxgvqaZ</td>\n",
              "      <td>Tourism, govt spending buoys Thai economy in J...</td>\n",
              "      <td>Tourism and public spending continued to boost...</td>\n",
              "      <td>The Nation - Thailand&amp;#39;s English news</td>\n",
              "      <td>economy</td>\n",
              "      <td>2015-03-01 00:11:00</td>\n",
              "      <td>-1</td>\n",
              "      <td>-1</td>\n",
              "      <td>-1</td>\n",
              "      <td>0.000000</td>\n",
              "      <td>0.141084</td>\n",
              "    </tr>\n",
              "    <tr>\n",
              "      <th>...</th>\n",
              "      <td>...</td>\n",
              "      <td>...</td>\n",
              "      <td>...</td>\n",
              "      <td>...</td>\n",
              "      <td>...</td>\n",
              "      <td>...</td>\n",
              "      <td>...</td>\n",
              "      <td>...</td>\n",
              "      <td>...</td>\n",
              "      <td>...</td>\n",
              "      <td>...</td>\n",
              "    </tr>\n",
              "    <tr>\n",
              "      <th>55927</th>\n",
              "      <td>jQ3CeLRCb9</td>\n",
              "      <td>Fidel Castro Lashes Out at Obama After Cuba Visit</td>\n",
              "      <td>Retired Cuban leader Fidel Castro slammed Pres...</td>\n",
              "      <td>Wall Street Journal</td>\n",
              "      <td>obama</td>\n",
              "      <td>2016-03-29 01:35:06</td>\n",
              "      <td>794</td>\n",
              "      <td>10</td>\n",
              "      <td>5</td>\n",
              "      <td>-0.135417</td>\n",
              "      <td>-0.055902</td>\n",
              "    </tr>\n",
              "    <tr>\n",
              "      <th>55928</th>\n",
              "      <td>akNYeJ8opY</td>\n",
              "      <td>JOHN CRISP | Obama's strategic reaction to Bru...</td>\n",
              "      <td>President Obama caught some predictable flak f...</td>\n",
              "      <td>Kitsap Sun</td>\n",
              "      <td>obama</td>\n",
              "      <td>2016-03-29 01:35:08</td>\n",
              "      <td>0</td>\n",
              "      <td>0</td>\n",
              "      <td>0</td>\n",
              "      <td>0.236228</td>\n",
              "      <td>0.056110</td>\n",
              "    </tr>\n",
              "    <tr>\n",
              "      <th>55929</th>\n",
              "      <td>n2DGs0c8IG</td>\n",
              "      <td>Think Trump's 45 Percent Tariffs Are Bad? Try ...</td>\n",
              "      <td>While Trump wants to put large tariffs on impo...</td>\n",
              "      <td>Huffington Post</td>\n",
              "      <td>obama</td>\n",
              "      <td>2016-03-29 01:35:09</td>\n",
              "      <td>102</td>\n",
              "      <td>4</td>\n",
              "      <td>0</td>\n",
              "      <td>0.025747</td>\n",
              "      <td>0.114820</td>\n",
              "    </tr>\n",
              "    <tr>\n",
              "      <th>55930</th>\n",
              "      <td>P0EBiaSEjq</td>\n",
              "      <td>Microsoft finally releases giant Surface</td>\n",
              "      <td>Microsoft’s business customers are finally beg...</td>\n",
              "      <td>TechEye</td>\n",
              "      <td>microsoft</td>\n",
              "      <td>2016-03-29 01:38:00</td>\n",
              "      <td>0</td>\n",
              "      <td>0</td>\n",
              "      <td>0</td>\n",
              "      <td>0.000000</td>\n",
              "      <td>-0.028296</td>\n",
              "    </tr>\n",
              "    <tr>\n",
              "      <th>55931</th>\n",
              "      <td>99MLvyAQTJ</td>\n",
              "      <td>Rays of sunshine in the US economy</td>\n",
              "      <td>AS WE all know from listening to the campaign ...</td>\n",
              "      <td>Washington Post</td>\n",
              "      <td>economy</td>\n",
              "      <td>2016-03-29 01:41:08</td>\n",
              "      <td>75</td>\n",
              "      <td>7</td>\n",
              "      <td>19</td>\n",
              "      <td>0.000000</td>\n",
              "      <td>0.184444</td>\n",
              "    </tr>\n",
              "  </tbody>\n",
              "</table>\n",
              "<p>55757 rows × 11 columns</p>\n",
              "</div>"
            ],
            "text/plain": [
              "           IDLink  ... SentimentHeadline\n",
              "0      Tr3CMgRv1N  ...         -0.053300\n",
              "1      Wc81vGp8qZ  ...         -0.156386\n",
              "2      zNGH03CrZH  ...          0.139754\n",
              "3      3sM1H0W8ts  ...          0.026064\n",
              "4      wUbnxgvqaZ  ...          0.141084\n",
              "...           ...  ...               ...\n",
              "55927  jQ3CeLRCb9  ...         -0.055902\n",
              "55928  akNYeJ8opY  ...          0.056110\n",
              "55929  n2DGs0c8IG  ...          0.114820\n",
              "55930  P0EBiaSEjq  ...         -0.028296\n",
              "55931  99MLvyAQTJ  ...          0.184444\n",
              "\n",
              "[55757 rows x 11 columns]"
            ]
          },
          "metadata": {
            "tags": []
          },
          "execution_count": 6
        }
      ]
    },
    {
      "cell_type": "code",
      "metadata": {
        "id": "YJsGHrZUOOs5",
        "colab_type": "code",
        "outputId": "9368c58f-962c-48ae-cc5e-41b076664e54",
        "colab": {
          "base_uri": "https://localhost:8080/",
          "height": 221
        }
      },
      "source": [
        "#fill it up with the mode value \n",
        "# df['Source']=df['Source'].fillna(\"Bloomberg\")\n",
        "#checking again to see for missing values\n",
        "df.isna().sum()"
      ],
      "execution_count": 7,
      "outputs": [
        {
          "output_type": "execute_result",
          "data": {
            "text/plain": [
              "IDLink                 0\n",
              "Title                  0\n",
              "Headline               0\n",
              "Source               175\n",
              "Topic                  0\n",
              "PublishDate            0\n",
              "Facebook               0\n",
              "GooglePlus             0\n",
              "LinkedIn               0\n",
              "SentimentTitle         0\n",
              "SentimentHeadline      0\n",
              "dtype: int64"
            ]
          },
          "metadata": {
            "tags": []
          },
          "execution_count": 7
        }
      ]
    },
    {
      "cell_type": "code",
      "metadata": {
        "id": "NImDVDRPPoxA",
        "colab_type": "code",
        "colab": {}
      },
      "source": [
        "#doing the same for the test data set\n",
        "df_test['Source']=df_test['Source'].fillna(\"Bloomberg\")"
      ],
      "execution_count": 0,
      "outputs": []
    },
    {
      "cell_type": "code",
      "metadata": {
        "id": "3wYUpgaFPo7Q",
        "colab_type": "code",
        "colab": {}
      },
      "source": [
        "#DATA PRE-PROCESSING \n",
        "\n",
        "replace_puncts = {'`': \"'\", '′': \"'\", '“':'\"', '”': '\"', '‘': \"'\"}\n",
        "\n",
        "strip_chars = [',', '.', '\"', ':', ')', '(', '-', '|', ';', \"'\", '[', ']', '>', '=', '+', '\\\\', '•',  '~', '@', \n",
        " '·', '_', '{', '}', '©', '^', '®', '`',  '<', '→', '°', '€', '™', '›',  '♥', '←', '×', '§', '″', '′', 'Â', '█', '½', 'à', '…', \n",
        " '“', '★', '”', '–', '●', 'â', '►', '−', '¢', '²', '¬', '░', '¶', '↑', '±', '¿', '▾', '═', '¦', '║', '―', '¥', '▓', '—', '‹', '─', \n",
        " '▒', '：', '¼', '⊕', '▼', '▪', '†', '■', '’', '▀', '¨', '▄', '♫', '☆', 'é', '¯', '♦', '¤', '▲', 'è', '¸', '¾', 'Ã', '⋅', '‘', '∞', \n",
        " '∙', '）', '↓', '、', '│', '（', '»', '，', '♪', '╩', '╚', '³', '・', '╦', '╣', '╔', '╗', '▬', '❤', 'ï', 'Ø', '¹', '≤', '‡', '√', ]\n",
        "\n",
        "puncts = ['!', '?', '$', '&', '/', '%', '#', '*','£']\n",
        "\n",
        "def clean_str(x):\n",
        "    x = str(x)\n",
        "    \n",
        "    x = x.lower()\n",
        "    \n",
        "    x = re.sub(r\"(https?:\\/\\/(?:www\\.|(?!www))[a-zA-Z0-9][a-zA-Z0-9-]+[a-zA-Z0-9]\\.[^\\s]{2,}|www\\.[a-zA-Z0-9][a-zA-Z0-9-]+[a-zA-Z0-9]\\.[^\\s]{2,}|https?:\\/\\/(?:www\\.|(?!www))[a-zA-Z0-9]\\.[^\\s]{2,}|www\\.[a-zA-Z0-9]\\.[^\\s]{2,})\", \"url\", x)\n",
        "    \n",
        "    for k, v in replace_puncts.items():\n",
        "        x = x.replace(k, f' {v} ')\n",
        "        \n",
        "    for punct in strip_chars:\n",
        "        x = x.replace(punct, ' ') \n",
        "    \n",
        "    for punct in puncts:\n",
        "        x = x.replace(punct, ' ')\n",
        "        \n",
        "    x = x.replace(\" '\", \" \")\n",
        "    x = x.replace(\"' \", \" \")\n",
        "        \n",
        "    return x"
      ],
      "execution_count": 0,
      "outputs": []
    },
    {
      "cell_type": "code",
      "metadata": {
        "id": "ypEkwL6jfvbo",
        "colab_type": "code",
        "colab": {}
      },
      "source": [
        "#TRAIN TITLE \n",
        "save=[]\n",
        "#stop words \n",
        "count=1\n",
        "for i in df['Title']:\n",
        "  \n",
        "  # print(i)\n",
        "\n",
        "  # print()\n",
        "  word_tokens = word_tokenize(i)\n",
        "  filtered_sentence = [w for w in word_tokens if not w in stop_words]\n",
        "\n",
        "  filtered_sentence = []\n",
        "  store=[]\n",
        "  for w in word_tokens:\n",
        "        if w not in stop_words:\n",
        "          w_lem=st.stem(w)\n",
        "          filtered_sentence.append(w_lem)\n",
        "  new_string=\" \".join(filtered_sentence)\n",
        "  # new_string_lem=lemmatizer.lemmatize(new_string)\n",
        "  i=new_string\n",
        "\n",
        "  store.append(i)\n",
        "  save.append(store)\n",
        "\n",
        "\n",
        "\n",
        "\n",
        "\n",
        "df['new_Title']=save #creating the new dataframe without stop words\n",
        "#replacing the string obtained by removing the stop words from the original sentence with the the sentence obtained after removing the stop words\n",
        "df['new_Title'] = df['new_Title'].apply(clean_str)"
      ],
      "execution_count": 0,
      "outputs": []
    },
    {
      "cell_type": "code",
      "metadata": {
        "id": "FQ9KjVsPWHbx",
        "colab_type": "code",
        "colab": {}
      },
      "source": [
        "#TRAIN HEADLINE\n",
        "save_head=[]\n",
        "df['Headline'] = df['Headline'].apply(clean_str)\n",
        "\n",
        "for i in df['Headline']:\n",
        "  \n",
        "  # print(i)\n",
        "\n",
        "  # print()\n",
        "  word_tokens_head = word_tokenize(i)\n",
        "  filtered_sentence_head = [w for w in word_tokens_head if not w in stop_words]\n",
        "\n",
        "  filtered_sentence_head = []\n",
        "  store=[]\n",
        "  for w in word_tokens_head:\n",
        "        if w not in stop_words:\n",
        "          w_lem=st.stem(w)\n",
        "          filtered_sentence_head.append(w_lem)\n",
        "  new_string_head=\" \".join(filtered_sentence_head)\n",
        "  # new_string_lem=lemmatizer.lemmatize(new_string)\n",
        "  i=new_string_head\n",
        "\n",
        "  store.append(i)\n",
        "  save_head.append(store)\n",
        "\n",
        "\n",
        "df['new_headline']=save_head\n",
        "df['new_headline'] = df['new_headline'].apply(clean_str)  "
      ],
      "execution_count": 0,
      "outputs": []
    },
    {
      "cell_type": "code",
      "metadata": {
        "id": "R-KWGPqkcmi2",
        "colab_type": "code",
        "colab": {}
      },
      "source": [
        "#TEST HEADLINE\n",
        "save_head=[]\n",
        "df_test['Headline'] = df_test['Headline'].apply(clean_str)\n",
        "\n",
        "for i in df_test['Headline']:\n",
        "\n",
        "  word_tokens_head = word_tokenize(i)\n",
        "  filtered_sentence_head = [w for w in word_tokens_head if not w in stop_words]\n",
        "\n",
        "  filtered_sentence_head = []\n",
        "  store=[]\n",
        "  for w in word_tokens_head:\n",
        "        if w not in stop_words:\n",
        "          w_lem=st.stem(w)\n",
        "          filtered_sentence_head.append(w_lem)\n",
        "  new_string_head=\" \".join(filtered_sentence_head)\n",
        "  # new_string_lem=lemmatizer.lemmatize(new_string)\n",
        "  i=new_string_head\n",
        "\n",
        "  store.append(i)\n",
        "  save_head.append(store)\n",
        "\n",
        "\n",
        "df_test['new_headline']=save_head\n",
        "df_test['new_headline'] = df_test['new_headline'].apply(clean_str)  "
      ],
      "execution_count": 0,
      "outputs": []
    },
    {
      "cell_type": "code",
      "metadata": {
        "id": "vrJ_eE-kd0zA",
        "colab_type": "code",
        "colab": {}
      },
      "source": [
        "#TEST TITLE \n",
        "\n",
        "\n",
        "save_head=[]\n",
        "df_test['Title'] = df_test['Title'].apply(clean_str)\n",
        "\n",
        "for i in df_test['Title']:\n",
        "\n",
        "  word_tokens_head = word_tokenize(i)\n",
        "  filtered_sentence_head = [w for w in word_tokens_head if not w in stop_words]\n",
        "\n",
        "  filtered_sentence_head = []\n",
        "  store=[]\n",
        "  for w in word_tokens_head:\n",
        "        if w not in stop_words:\n",
        "          w_lem=st.stem(w)\n",
        "          filtered_sentence_head.append(w_lem)\n",
        "  new_string_head=\" \".join(filtered_sentence_head)\n",
        "  # new_string_lem=lemmatizer.lemmatize(new_string)\n",
        "  i=new_string_head\n",
        "\n",
        "  store.append(i)\n",
        "  save_head.append(store)\n",
        "\n",
        "\n",
        "df_test['new_Title']=save_head\n",
        "df_test['new_Title'] = df_test['Title'].apply(clean_str)  "
      ],
      "execution_count": 0,
      "outputs": []
    },
    {
      "cell_type": "code",
      "metadata": {
        "id": "Rx_Ah708Po5-",
        "colab_type": "code",
        "outputId": "63d55217-ecfa-4a4e-b2d3-229d44ebcecc",
        "colab": {
          "base_uri": "https://localhost:8080/",
          "height": 51
        }
      },
      "source": [
        "#CATEGORICAL TO NUMBERICAL REPRESENTATION OF THE COLUMN TOPIC \n",
        "\n",
        "#FOR TRAIN \n",
        "save_topic=df[\"Topic\"].unique()\n",
        "topic_dict={}\n",
        "count=1\n",
        "for i in save_topic:\n",
        "  topic_dict[i]=count\n",
        "  count=count+1\n",
        "\n",
        "print(topic_dict)\n",
        "\n",
        "for i in topic_dict:\n",
        "  df=df.replace(to_replace=i,value=topic_dict[i])\n",
        "\n",
        "\n",
        "#FOR TESTING\n",
        "\n",
        "save_topic_test=df_test[\"Topic\"].unique()\n",
        "topic_dict_test={}\n",
        "count=1\n",
        "for i in save_topic_test:\n",
        "  topic_dict_test[i]=count\n",
        "  count=count+1\n",
        "\n",
        "print(topic_dict_test)\n",
        "\n",
        "for i in topic_dict_test:\n",
        "  df_test=df_test.replace(to_replace=i,value=topic_dict_test[i])\n",
        "\n",
        "\n"
      ],
      "execution_count": 14,
      "outputs": [
        {
          "output_type": "stream",
          "text": [
            "{'obama': 1, 'economy': 2, 'microsoft': 3, 'palestine': 4}\n",
            "{'economy': 1, 'microsoft': 2, 'obama': 3, 'palestine': 4}\n"
          ],
          "name": "stdout"
        }
      ]
    },
    {
      "cell_type": "code",
      "metadata": {
        "id": "nclQVDC6Po1W",
        "colab_type": "code",
        "colab": {}
      },
      "source": [
        "\n",
        "#SPLITTING THE DATE AND TIME COLUMNS IN ORDER TO OBTAIN THE HOUR AND DAY FROM IT \n",
        "\n",
        "\n",
        "df_day = []\n",
        "df_test_day = []\n",
        "\n",
        "for i in df['PublishDate']:\n",
        "    df_day.append(datetime.datetime.strptime(i, \"%Y-%m-%d %H:%M:%S\").strftime(\"%A\"))\n",
        "    \n",
        "for i in df_test['PublishDate']:\n",
        "    df_test_day.append(datetime.datetime.strptime(i, \"%Y-%m-%d %H:%M:%S\").strftime(\"%A\"))\n",
        "\n",
        "df['day'] = df_day\n",
        "df_test['day'] = df_test_day\n",
        "\n",
        "\n",
        "# convert weekday to 0-6\n",
        "\n",
        "df['day'] = df['day'].map({'Monday': 0,\n",
        "                                        'Tuesday': 1,\n",
        "                                        'Wednesday': 2,\n",
        "                                        'Thursday': 3,\n",
        "                                        'Friday': 4,\n",
        "                                        'Saturday': 5,\n",
        "                                        'Sunday': 6})\n",
        "df_test['day'] = df_test['day'].map({'Monday': 0,\n",
        "                                        'Tuesday': 1,\n",
        "                                        'Wednesday': 2,\n",
        "                                        'Thursday': 3,\n",
        "                                        'Friday': 4,\n",
        "                                        'Saturday': 5,\n",
        "                                        'Sunday': 6})"
      ],
      "execution_count": 0,
      "outputs": []
    },
    {
      "cell_type": "code",
      "metadata": {
        "id": "JOoDCpPxTOkJ",
        "colab_type": "code",
        "colab": {}
      },
      "source": [
        "df[\"hour\"] = df[\"PublishDate\"].apply(lambda x: x.split()[1].split(':')[0])\n",
        "df_test[\"hour\"] = df_test[\"PublishDate\"].apply(lambda x: x.split()[1].split(':')[0])"
      ],
      "execution_count": 0,
      "outputs": []
    },
    {
      "cell_type": "code",
      "metadata": {
        "id": "EeEcNPSHIWww",
        "colab_type": "code",
        "outputId": "3abc355f-81c3-4878-a0ff-3e55aa278f54",
        "colab": {
          "base_uri": "https://localhost:8080/",
          "height": 85
        }
      },
      "source": [
        "df.columns\n"
      ],
      "execution_count": 17,
      "outputs": [
        {
          "output_type": "execute_result",
          "data": {
            "text/plain": [
              "Index(['IDLink', 'Title', 'Headline', 'Source', 'Topic', 'PublishDate',\n",
              "       'Facebook', 'GooglePlus', 'LinkedIn', 'SentimentTitle',\n",
              "       'SentimentHeadline', 'new_Title', 'new_headline', 'day', 'hour'],\n",
              "      dtype='object')"
            ]
          },
          "metadata": {
            "tags": []
          },
          "execution_count": 17
        }
      ]
    },
    {
      "cell_type": "code",
      "metadata": {
        "id": "GPcQVVglTinh",
        "colab_type": "code",
        "colab": {}
      },
      "source": [
        "mapper_title = DataFrameMapper([\n",
        "    ('new_Title', TfidfVectorizer(max_features=1000, lowercase=True, analyzer='word',\n",
        " stop_words= 'english',ngram_range=(1,1))),\n",
        "    ('Facebook', None),\n",
        "    ('GooglePlus', None),\n",
        "    ('LinkedIn', None),\n",
        "\n",
        "], default = False)"
      ],
      "execution_count": 0,
      "outputs": []
    },
    {
      "cell_type": "code",
      "metadata": {
        "id": "egILMObZJGKu",
        "colab_type": "code",
        "colab": {}
      },
      "source": [
        "mapper_headline = DataFrameMapper([\n",
        "    ('new_headline', TfidfVectorizer(max_features=1000, lowercase=True, analyzer='word',\n",
        " stop_words= 'english',ngram_range=(1,1))),\n",
        "    ('Facebook', None),\n",
        "    ('GooglePlus', None),\n",
        "    ('LinkedIn', None),\n",
        "], default = False)"
      ],
      "execution_count": 0,
      "outputs": []
    },
    {
      "cell_type": "code",
      "metadata": {
        "id": "f-EuIETlJVV6",
        "colab_type": "code",
        "colab": {}
      },
      "source": [
        "features_title = mapper_title.fit_transform(df)\n",
        "labels_title =df['SentimentTitle']\n",
        "test_features_title = mapper_title.transform(df_test)\n",
        "\n",
        "features_headline = mapper_headline.fit_transform(df)\n",
        "labels_headline = df['SentimentHeadline']\n",
        "test_features_headline = mapper_headline.transform(df_test)"
      ],
      "execution_count": 0,
      "outputs": []
    },
    {
      "cell_type": "code",
      "metadata": {
        "id": "wVS_pjieJpdQ",
        "colab_type": "code",
        "colab": {}
      },
      "source": [
        "from sklearn.model_selection import train_test_split\n",
        "x_train, x_test, y_train, y_test = train_test_split(features_title, labels_title, test_size=0.25, random_state=42)"
      ],
      "execution_count": 0,
      "outputs": []
    },
    {
      "cell_type": "code",
      "metadata": {
        "id": "CbBdjVXAKDnW",
        "colab_type": "code",
        "colab": {
          "base_uri": "https://localhost:8080/",
          "height": 71
        },
        "outputId": "b60a8340-aa9c-497f-9220-4abdbcdf598a"
      },
      "source": [
        "estimator = LinearSVR(C=0.1)\n",
        "#clf_svr_1 = GridSearchCV(estimator, parameters)\n",
        "estimator.fit(x_train, y_train)\n",
        "predictions_svr = estimator.predict(x_test)\n",
        "\n",
        "mae1=mean_absolute_error(y_test,predictions_svr)"
      ],
      "execution_count": 22,
      "outputs": [
        {
          "output_type": "stream",
          "text": [
            "/usr/local/lib/python3.6/dist-packages/sklearn/svm/_base.py:947: ConvergenceWarning: Liblinear failed to converge, increase the number of iterations.\n",
            "  \"the number of iterations.\", ConvergenceWarning)\n"
          ],
          "name": "stderr"
        }
      ]
    },
    {
      "cell_type": "code",
      "metadata": {
        "id": "SD3qvcFgW0GL",
        "colab_type": "code",
        "colab": {}
      },
      "source": [
        "from sklearn.model_selection import train_test_split\n",
        "x_train, x_test, y_train, y_test = train_test_split(features_headline, labels_headline, test_size=0.25, random_state=42)"
      ],
      "execution_count": 0,
      "outputs": []
    },
    {
      "cell_type": "code",
      "metadata": {
        "id": "wQcLKVtkWnFF",
        "colab_type": "code",
        "colab": {
          "base_uri": "https://localhost:8080/",
          "height": 71
        },
        "outputId": "097a0f32-af4a-47ec-c63e-d2ef6be6f712"
      },
      "source": [
        "estimator1 = LinearSVR(C=0.2)\n",
        "#clf_svr_1 = GridSearchCV(estimator, parameters)\n",
        "estimator1.fit(x_train, y_train)\n",
        "predictions_svr1 = estimator1.predict(x_test)\n",
        "mae2=mean_absolute_error(y_test,predictions_svr)"
      ],
      "execution_count": 24,
      "outputs": [
        {
          "output_type": "stream",
          "text": [
            "/usr/local/lib/python3.6/dist-packages/sklearn/svm/_base.py:947: ConvergenceWarning: Liblinear failed to converge, increase the number of iterations.\n",
            "  \"the number of iterations.\", ConvergenceWarning)\n"
          ],
          "name": "stderr"
        }
      ]
    },
    {
      "cell_type": "code",
      "metadata": {
        "id": "A3lS6QIZWWsp",
        "colab_type": "code",
        "outputId": "73d4fa69-670b-45f2-d37f-a61f9f293bb8",
        "colab": {
          "base_uri": "https://localhost:8080/",
          "height": 34
        }
      },
      "source": [
        "Leaderboardscore=max(0,( 1 - ((0.4 * mae1) + (0.6 * mae2))))\n",
        "print(Leaderboardscore)"
      ],
      "execution_count": 25,
      "outputs": [
        {
          "output_type": "stream",
          "text": [
            "0.8813214752694644\n"
          ],
          "name": "stdout"
        }
      ]
    },
    {
      "cell_type": "code",
      "metadata": {
        "id": "B5HeMmJ2KkiY",
        "colab_type": "code",
        "colab": {
          "base_uri": "https://localhost:8080/",
          "height": 105
        },
        "outputId": "03cc58db-dc4f-45b9-ca1d-310f69a47fcd"
      },
      "source": [
        "estimator.fit(features_title, labels_title)\n",
        "final_pred_title = estimator.predict(test_features_title)\n",
        "\n",
        "estimator1.fit(features_headline, labels_headline)\n",
        "final_pred_headline = estimator.predict(test_features_headline)"
      ],
      "execution_count": 26,
      "outputs": [
        {
          "output_type": "stream",
          "text": [
            "/usr/local/lib/python3.6/dist-packages/sklearn/svm/_base.py:947: ConvergenceWarning: Liblinear failed to converge, increase the number of iterations.\n",
            "  \"the number of iterations.\", ConvergenceWarning)\n",
            "/usr/local/lib/python3.6/dist-packages/sklearn/svm/_base.py:947: ConvergenceWarning: Liblinear failed to converge, increase the number of iterations.\n",
            "  \"the number of iterations.\", ConvergenceWarning)\n"
          ],
          "name": "stderr"
        }
      ]
    },
    {
      "cell_type": "code",
      "metadata": {
        "id": "x7LxFGGJRFYc",
        "colab_type": "code",
        "colab": {}
      },
      "source": [
        "final = pd.DataFrame({'IDLink': df_test['IDLink'], 'SentimentTitle': list(final_pred_title), 'SentimentHeadline': list(final_pred_headline)})\n",
        "final.to_csv('final.csv',  encoding='utf-8', index=False)"
      ],
      "execution_count": 0,
      "outputs": []
    },
    {
      "cell_type": "code",
      "metadata": {
        "id": "0Lvv7GcKjNmV",
        "colab_type": "code",
        "colab": {}
      },
      "source": [
        ""
      ],
      "execution_count": 0,
      "outputs": []
    }
  ]
}